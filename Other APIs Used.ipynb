{
 "cells": [
  {
   "cell_type": "code",
   "execution_count": null,
   "metadata": {
    "collapsed": true
   },
   "outputs": [],
   "source": [
    "# Import required libraries\n",
    "import requests\n",
    "import urllib\n",
    "import json\n",
    "from __future__ import division\n",
    "import math\n",
    "import time"
   ]
  },
  {
   "cell_type": "markdown",
   "metadata": {},
   "source": [
    "# ProPublica Congress API - specific member\n",
    "https://propublica.github.io/congress-api-docs/?shell#get-a-specific-member"
   ]
  },
  {
   "cell_type": "code",
   "execution_count": null,
   "metadata": {
    "collapsed": true
   },
   "outputs": [],
   "source": [
    "# set key\n",
    "key=\"xxxxxxxxxxxxxxxxxxxxxxxxxxxxxxxxxxx\"\n",
    "\n",
    "# set base url\n",
    "base_url=\"https://api.propublica.org/congress/v1/\"\n",
    "\n",
    "# set url parameters\n",
    "method=\"members/\"\n",
    "member_id = \"A000360\"\n",
    "file_format = \".json\"\n",
    "\n",
    "#set headers\n",
    "headers = {'X-API-Key': key}\n",
    "\n",
    "# make request\n",
    "r = requests.get(base_url+method+member_id+file_format, headers=headers)\n",
    "\n",
    "# parse data for component nested dictionaries\n",
    "data=(r.json())\n",
    "\n",
    "bioKeys = data['results'][0]\n",
    "bioListData = data['results']\n",
    "\n",
    "roleKeys = data['results'][0]['roles'][0]\n",
    "roleListData = data['results'][0]['roles']\n",
    "\n",
    "committeeKeys = data['results'][0]['roles'][0]['committees'][0]\n",
    "\n",
    "# export to csv\n",
    "import csv\n",
    "with open('bio.csv', 'w') as file:\n",
    "    dict_writer = csv.DictWriter(file, bioKeys)\n",
    "    dict_writer.writeheader()\n",
    "    dict_writer.writerows(bioListData)\n",
    "    \n",
    "with open('roles.csv', 'w') as file:\n",
    "    dict_writer = csv.DictWriter(file, roleKeys)\n",
    "    dict_writer.writeheader()\n",
    "    dict_writer.writerows(roleListData)\n",
    "\n",
    "with open('committees.csv', 'w') as file:\n",
    "    dict_writer = csv.DictWriter(file, committeeKeys)\n",
    "    dict_writer.writeheader()\n",
    "    for roleObject in roleListData:\n",
    "        dict_writer.writerows(roleObject['committees'])"
   ]
  },
  {
   "cell_type": "markdown",
   "metadata": {},
   "source": [
    "# ProPublica Congress API - specific member with member list\n",
    "https://propublica.github.io/congress-api-docs/?shell#get-a-specific-member"
   ]
  },
  {
   "cell_type": "code",
   "execution_count": null,
   "metadata": {
    "collapsed": true
   },
   "outputs": [],
   "source": [
    "# set key\n",
    "key=\"xxxxxxxxxxxxxxxxxxxxxxxxxxxxxxxxxxx\"\n",
    "\n",
    "# set base url\n",
    "base_url=\"https://api.propublica.org/congress/v1/\"\n",
    "\n",
    "# set url parameters\n",
    "method=\"members/\"\n",
    "member_id = \"A000360\"\n",
    "file_format = \".json\"\n",
    "\n",
    "#set headers\n",
    "headers = {'X-API-Key': key}\n",
    "\n",
    "# create a list of Member IDs from https://www.congress.gov/help/field-values/member-bioguide-ids to run the API request on more than one ID\n",
    "data = []\n",
    "with open('memberid.txt') as file:\n",
    "    for line in file:\n",
    "        data.append(line.strip())\n",
    "        \n",
    "# make request, build list of results for each FEC ID\n",
    "data = []\n",
    "for member_id in data:\n",
    "    r = requests.get(base_url+method+member_id+file_format, headers=headers)\n",
    "    member = r.json()['results']\n",
    "    data.append(member)\n",
    "    time.sleep(3)\n",
    "\n",
    "# tbd"
   ]
  },
  {
   "cell_type": "markdown",
   "metadata": {},
   "source": [
    "# Open Secrets API - \n",
    "https://www.opensecrets.org/resources/create/api_doc.php"
   ]
  },
  {
   "cell_type": "code",
   "execution_count": null,
   "metadata": {
    "collapsed": true
   },
   "outputs": [],
   "source": [
    "# set base url\n",
    "base_url=\"http://www.opensecrets.org/api/\"\n",
    "\n",
    "#set parameters\n",
    "params = {\"apikey\" :  \"xxxxxxxxxxxxxxxxxxxxxxxxxxxxxxxxxxx\",\n",
    "\"method\" : \"memPFDprofile\",\n",
    "\"cid\" : \"N00009888\",\n",
    "\"year\" : \"2014\",\n",
    "\"output\" : \"json\"}\n",
    "\n",
    "# make request\n",
    "r = requests.get(base_url,params=params)\n",
    "\n",
    "# parse data\n",
    "data = (r.json())\n",
    "legList = data['response']['legislator']\n",
    "legKeys = data['response']['legislator'][0]['@attributes']\n",
    "\n",
    "# export to csv\n",
    "import csv\n",
    "with open('leg.csv', 'w') as file:\n",
    "    dict_writer = csv.DictWriter(file, legKeys)\n",
    "    dict_writer.writeheader()\n",
    "    for legObject in legList:\n",
    "        dict_writer.writerow(legObject['@attributes'])"
   ]
  },
  {
   "cell_type": "markdown",
   "metadata": {},
   "source": [
    "# GovTrack API\n",
    "https://www.govtrack.us/developers/api#endpoint_person"
   ]
  },
  {
   "cell_type": "code",
   "execution_count": null,
   "metadata": {
    "collapsed": true
   },
   "outputs": [],
   "source": [
    "#has OSID from Open Secrets and BioID from ProPublica\n",
    "\n",
    "import requests\n",
    "import urllib\n",
    "import json\n",
    "from __future__ import division\n",
    "import math\n",
    "\n",
    "base_url = 'https://www.govtrack.us/api/v2/person/400326'\n",
    "id\n",
    "r = requests.get(base_url)\n",
    "data= r.json()\n",
    "data\n"
   ]
  }
 ],
 "metadata": {
  "anaconda-cloud": {},
  "kernelspec": {
   "display_name": "Python [default]",
   "language": "python",
   "name": "python3"
  },
  "language_info": {
   "codemirror_mode": {
    "name": "ipython",
    "version": 3
   },
   "file_extension": ".py",
   "mimetype": "text/x-python",
   "name": "python",
   "nbconvert_exporter": "python",
   "pygments_lexer": "ipython3",
   "version": "3.5.2"
  }
 },
 "nbformat": 4,
 "nbformat_minor": 1
}
