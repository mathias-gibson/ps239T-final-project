{
 "cells": [
  {
   "cell_type": "markdown",
   "metadata": {
    "collapsed": false
   },
   "source": [
    "To collect my data I used get requests to retrieve information from two ProPublica APIs in .json format, and exported the data into two separate .csv files."
   ]
  },
  {
   "cell_type": "code",
   "execution_count": null,
   "metadata": {
    "collapsed": true
   },
   "outputs": [],
   "source": [
    "# Import required libraries\n",
    "import requests\n",
    "import urllib\n",
    "import json\n",
    "from __future__ import division\n",
    "import math\n",
    "import time"
   ]
  },
  {
   "cell_type": "markdown",
   "metadata": {},
   "source": [
    "# ProPublica Campaign Finance API\n",
    "https://propublica.github.io/campaign-finance-api-docs/#candidates"
   ]
  },
  {
   "cell_type": "code",
   "execution_count": 10,
   "metadata": {
    "collapsed": true
   },
   "outputs": [],
   "source": [
    "# set key\n",
    "key=\"sQ7JGHfBhJa3IIA2GSKia3m21P0BUIt34sp5f7nT\"\n",
    "\n",
    "# set base url\n",
    "base_url=\"https://api.propublica.org/campaign-finance/v1/\"\n",
    "\n",
    "# set headers\n",
    "headers = {'X-API-Key': key}\n",
    "\n",
    "# set url parameters\n",
    "cycle = \"2014/\"\n",
    "method = \"candidates/\"\n",
    "file_format = \".json\"\n",
    "\n",
    "# create a list of FEC IDs from http://www.fec.gov/data/DataCatalog.do to run the API request on more than one ID\n",
    "fec_id_list = []\n",
    "with open('fecid2014.txt') as file:\n",
    "    for line in file:\n",
    "        fec_id_list.append(line.strip())"
   ]
  },
  {
   "cell_type": "code",
   "execution_count": null,
   "metadata": {
    "collapsed": false
   },
   "outputs": [],
   "source": [
    "# make request, build list of results for each FEC ID\n",
    "data = []\n",
    "for fec_id in fec_id_list:\n",
    "    r = requests.get(base_url+cycle+method+fec_id+file_format, headers=headers)\n",
    "    candidate = r.json()['results']\n",
    "    data.append(candidate)\n",
    "    time.sleep(3)\n",
    "print(data)"
   ]
  },
  {
   "cell_type": "code",
   "execution_count": null,
   "metadata": {
    "collapsed": false
   },
   "outputs": [],
   "source": [
    "# format data for export\n",
    "data = [v for sublist in data for v in sublist]\n",
    "data_keys = data[0].keys()\n"
   ]
  },
  {
   "cell_type": "code",
   "execution_count": null,
   "metadata": {
    "collapsed": false
   },
   "outputs": [],
   "source": [
    "# export to csv\n",
    "import csv\n",
    "with open('ppcampfin.csv', 'w') as file:\n",
    "    dict_writer = csv.DictWriter(file, data_keys)\n",
    "    dict_writer.writeheader()\n",
    "    dict_writer.writerows(data)"
   ]
  },
  {
   "cell_type": "markdown",
   "metadata": {
    "collapsed": true
   },
   "source": [
    "# ProPublica Congress API - list of all members \n",
    "https://propublica.github.io/congress-api-docs/?shell#lists-of-members"
   ]
  },
  {
   "cell_type": "code",
   "execution_count": null,
   "metadata": {
    "collapsed": true
   },
   "outputs": [],
   "source": [
    "# set key\n",
    "key=\"sQ7JGHfBhJa3IIA2GSKia3m21P0BUIt34sp5f7nT\"\n",
    "\n",
    "# set base url\n",
    "base_url=\"https://api.propublica.org/congress/v1/\"\n",
    "\n",
    "# set url parameters\n",
    "\n",
    "congress = \"114/\" #102-114 for House, 80-114 for Senate\n",
    "chamber = \"senate\" #house or senate\n",
    "method=\"/members\"\n",
    "file_format = \".json\"\n",
    "\n",
    "#set headers\n",
    "headers = {'X-API-Key': key}"
   ]
  },
  {
   "cell_type": "code",
   "execution_count": null,
   "metadata": {
    "collapsed": true
   },
   "outputs": [],
   "source": [
    "# make request\n",
    "r = requests.get(base_url+congress+chamber+method+file_format, headers=headers)"
   ]
  },
  {
   "cell_type": "code",
   "execution_count": null,
   "metadata": {
    "collapsed": true
   },
   "outputs": [],
   "source": [
    "# parse data for component nested dictionaries\n",
    "data=(r.json())\n",
    "\n",
    "bio_keys = data['results'][0]['members'][0]\n",
    "bio_list = data['results'][0]['members']"
   ]
  },
  {
   "cell_type": "code",
   "execution_count": null,
   "metadata": {
    "collapsed": true
   },
   "outputs": [],
   "source": [
    "# export to csv\n",
    "import csv\n",
    "with open('bio.csv', 'w') as file:\n",
    "    dict_writer = csv.DictWriter(file, bio_keys)\n",
    "    dict_writer.writeheader()\n",
    "    dict_writer.writerows(bio_list)"
   ]
  }
 ],
 "metadata": {
  "anaconda-cloud": {},
  "kernelspec": {
   "display_name": "Python [default]",
   "language": "python",
   "name": "python3"
  },
  "language_info": {
   "codemirror_mode": {
    "name": "ipython",
    "version": 3
   },
   "file_extension": ".py",
   "mimetype": "text/x-python",
   "name": "python",
   "nbconvert_exporter": "python",
   "pygments_lexer": "ipython3",
   "version": "3.5.2"
  }
 },
 "nbformat": 4,
 "nbformat_minor": 1
}
